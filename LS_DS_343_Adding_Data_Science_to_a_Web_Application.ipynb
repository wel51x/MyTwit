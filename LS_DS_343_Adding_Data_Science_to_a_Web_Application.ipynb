{
 "cells": [
  {
   "cell_type": "markdown",
   "metadata": {},
   "source": [
    "_Lambda School Data Science_\n",
    "## Productization Module 3, [Adding Data Science to a Web AppIication](https://github.com/LambdaSchool/DS-Unit-3-Sprint-4-Productization-and-Cloud/blob/master/module3-adding-data-science-to-a-web-application/README.md)\n",
    "\n",
    "## Today's Plan:\n",
    "\n",
    "### Templates (provided for you)\n",
    "- `base.html`\n",
    "- `prediction.html`\n",
    "- `user.html`\n",
    "\n",
    "### Functions (added by you)\n",
    "\n",
    "#### `twitter.py`\n",
    "- `add_or_update_user`\n",
    "- `add_users`\n",
    "- `update_all_users`\n",
    "\n",
    "#### `predict.py`\n",
    "- `predict_user`\n",
    "\n",
    "#### `app.py`\n",
    "- ` @app.route('/user/<name>', methods=['GET'])`\n",
    "- ` @app.route('/user', methods=['POST'])`\n",
    "- ` @app.route('/compare', methods=['POST'])`\n",
    "- ` @app.route('/update')`"
   ]
  },
  {
   "cell_type": "markdown",
   "metadata": {},
   "source": [
    "#### [GET and POST methods, explained](https://developer.mozilla.org/en-US/docs/Web/HTTP/Session#Request_methods)\n",
    "\n",
    "HTTP defines a set of request methods indicating the desired action to be performed upon a resource. The most common requests are `GET` and `POST`:\n",
    "\n",
    "- The `GET` method requests a data representation of the specified resource. Requests using `GET` should only retrieve data.\n",
    "- The `POST` method sends data to a server so it may change its state. This is the method often used for HTML Forms.\n"
   ]
  },
  {
   "cell_type": "markdown",
   "metadata": {},
   "source": [
    "# 1. route `/user/<name>`"
   ]
  },
  {
   "cell_type": "markdown",
   "metadata": {},
   "source": [
    "### Prototype interactively"
   ]
  },
  {
   "cell_type": "code",
   "execution_count": null,
   "metadata": {},
   "outputs": [],
   "source": [
    "from twitoff.__init__ import *\n",
    "from twitoff.twitter import *\n",
    "\n",
    "with APP.app_context():\n",
    "    name = 'Austen'\n",
    "    tweets = User.query.filter(User.name == name).one().tweets\n",
    "    for tweet in tweets:\n",
    "        print(tweet.text)"
   ]
  },
  {
   "cell_type": "markdown",
   "metadata": {},
   "source": [
    "`with APP.app_context` was needed above, because we're running from a notebook instead of inside `flask run` or `flask shell`. For more information, see:\n",
    "\n",
    "- http://flask-sqlalchemy.pocoo.org/2.3/contexts/\n",
    "- http://flask.pocoo.org/docs/1.0/appcontext/"
   ]
  },
  {
   "cell_type": "markdown",
   "metadata": {},
   "source": [
    "### Route in `TwitOff/twitoff/app.py`\n",
    "\n",
    "Within the `create_app` factory function\n",
    "\n",
    "```\n",
    "    @app.route('/user/<name>')\n",
    "    def user(name):\n",
    "        tweets = User.query.filter(User.name == name).one().tweets\n",
    "        return render_template('user.html', title=name, tweets=tweets)\n",
    "```\n"
   ]
  },
  {
   "cell_type": "markdown",
   "metadata": {},
   "source": [
    "### Template at `TwitOff/twitoff/templates/user.html`\n",
    "\n",
    "`user.html` is like `base.html` except with a for loop iterating over tweets instead of users:\n",
    "\n",
    "```\n",
    "        {% for tweet in tweets %}\n",
    "        <span class=\"stack\">{{ tweet.text }}</span>\n",
    "        {% endfor %}\n",
    "```"
   ]
  },
  {
   "cell_type": "markdown",
   "metadata": {},
   "source": [
    "# 2. Add new user \n",
    "\n",
    "### From notebook!"
   ]
  },
  {
   "cell_type": "markdown",
   "metadata": {},
   "source": [
    "With [tqdm](https://github.com/tqdm/tqdm) for progress bars!"
   ]
  },
  {
   "cell_type": "code",
   "execution_count": null,
   "metadata": {},
   "outputs": [],
   "source": [
    "from tqdm.auto import tqdm"
   ]
  },
  {
   "cell_type": "code",
   "execution_count": null,
   "metadata": {},
   "outputs": [],
   "source": [
    "from twitoff.__init__ import *\n",
    "from twitoff.twitter import *\n",
    "\n",
    "def add_user(username):\n",
    "    \"\"\"Add a user and their Tweets\"\"\"\n",
    "    twitter_user = TWITTER.get_user(username)\n",
    "    db_user = User(id=twitter_user.id, name=username)\n",
    "    DB.session.add(db_user)\n",
    "    \n",
    "    # We want as many recent non-retweet/reply statuses as we can get\n",
    "    # 200 is a Twitter API limit, we'll usually see less due to exclusions\n",
    "    tweets = twitter_user.timeline(\n",
    "        count=200, exclude_replies=True, include_rts=False,\n",
    "        tweet_mode='extended')\n",
    "    db_user.newest_tweet_id = tweets[0].id\n",
    "    \n",
    "    # tqdm adds progress bar\n",
    "    for tweet in tqdm(tweets): \n",
    "        # Calculate embedding on the full tweet, but truncate for storing\n",
    "        embedding = BASILICA.embed_sentence(tweet.full_text,\n",
    "                                            model='twitter')\n",
    "        db_tweet = Tweet(id=tweet.id, text=tweet.full_text[:300],\n",
    "                         embedding=embedding)\n",
    "        db_user.tweets.append(db_tweet)\n",
    "        DB.session.add(db_tweet)\n",
    "\n",
    "    DB.session.commit()"
   ]
  },
  {
   "cell_type": "code",
   "execution_count": null,
   "metadata": {},
   "outputs": [],
   "source": [
    "with APP.app_context():\n",
    "    add_user('KenJennings')"
   ]
  },
  {
   "cell_type": "markdown",
   "metadata": {},
   "source": [
    "## Make it fault-tolerant: add _or update_ user\n",
    "\n",
    "What if you try to add a user that's already been added? You get a database error:\n",
    "\n",
    "> IntegrityError: UNIQUE constraint failed: user.id\n",
    "\n",
    "So, we'll make our function fault-tolerant and \"idempotent\"!\n",
    "\n",
    "#### [Idempotent REST APIs](https://restfulapi.net/idempotent-rest-apis/)\n",
    "\n",
    "> When making multiple identical requests has the same effect as making a single request – then that REST API is called idempotent.\n",
    "\n",
    ">When you design REST APIs, you must realize that API consumers can make mistakes. They can write client code in such a way that there can be duplicate requests as well. These duplicate requests may be unintentional as well as intentional some time (e.g. due to timeout or network issues). You have to design fault-tolerant APIs in such a way that duplicate requests do not leave the system unstable."
   ]
  },
  {
   "cell_type": "markdown",
   "metadata": {},
   "source": [
    "So, instead of assigning `db_user` to a new `User` ...\n",
    "\n",
    "```\n",
    "db_user = User(...)\n",
    "```\n",
    "\n",
    "We can assign `db_user` to an existing `User` **or** a new `User`:\n",
    "\n",
    "```\n",
    "    db_user = (User.query.get(twitter_user.id) or\n",
    "               User(id=twitter_user.id, name=username))\n",
    "```\n",
    "\n",
    "This is a common pattern in web applications. If `User.query.get(twitter_user.id)` returns `None`, that is `False`-y, so then `db_user` is assigned to the new `User(id=twitter_user.id, name=username))` instead.\n",
    "\n",
    "Here's a simpler demo of how **`or`** works in Python:"
   ]
  },
  {
   "cell_type": "code",
   "execution_count": null,
   "metadata": {},
   "outputs": [],
   "source": [
    "1 or 2"
   ]
  },
  {
   "cell_type": "code",
   "execution_count": null,
   "metadata": {},
   "outputs": [],
   "source": [
    "None or 2"
   ]
  },
  {
   "cell_type": "markdown",
   "metadata": {},
   "source": [
    "And now here's our `add_or_update_user` function:"
   ]
  },
  {
   "cell_type": "code",
   "execution_count": null,
   "metadata": {},
   "outputs": [],
   "source": [
    "def add_or_update_user(username):\n",
    "    \"\"\"Add or update a user and their Tweets\"\"\"\n",
    "    twitter_user = TWITTER.get_user(username)\n",
    "    db_user = (User.query.get(twitter_user.id) or\n",
    "               User(id=twitter_user.id, name=username))\n",
    "    DB.session.add(db_user)\n",
    "    \n",
    "    # We want as many recent non-retweet/reply statuses as we can get\n",
    "    # 200 is a Twitter API limit, we'll usually see less due to exclusions\n",
    "    tweets = twitter_user.timeline(\n",
    "        count=200, exclude_replies=True, include_rts=False,\n",
    "        tweet_mode='extended', since_id=db_user.newest_tweet_id)\n",
    "    if tweets:\n",
    "        db_user.newest_tweet_id = tweets[0].id\n",
    "        \n",
    "    # tqdm adds progress bar    \n",
    "    for tweet in tqdm(tweets):\n",
    "        # Calculate embedding on the full tweet, but truncate for storing\n",
    "        embedding = BASILICA.embed_sentence(tweet.full_text,\n",
    "                                            model='twitter')\n",
    "        db_tweet = Tweet(id=tweet.id, text=tweet.full_text[:300],\n",
    "                         embedding=embedding)\n",
    "        db_user.tweets.append(db_tweet)\n",
    "        DB.session.add(db_tweet)\n",
    "        \n",
    "    DB.session.commit()"
   ]
  },
  {
   "cell_type": "markdown",
   "metadata": {},
   "source": [
    "Two more changes were made in the function above. \n",
    "\n",
    "[Tweepy has a `since_id` parameter:](http://docs.tweepy.org/en/3.7.0/api.html?highlight=since_id)\n",
    "\n",
    "> `since_id` – Returns only statuses with an ID greater than (that is, more recent than) the specified ID.\n",
    "\n",
    "We use this parameter so we don't re-retrieve and re-embed tweets we already have in the database. (If `db_user.newest_tweet_id` is `None` then Tweepy gets all the tweets.)\n",
    "\n",
    "Also, we check whether a user has any tweets before trying to access the id of their 0th tweet. (This will prevent an error if a user doesn't have any tweets.)\n",
    "\n",
    "```\n",
    "    if tweets:\n",
    "        db_user.newest_tweet_id = tweets[0].id\n",
    "```\n",
    "\n",
    "Now the function is \"idempotent\"!"
   ]
  },
  {
   "cell_type": "code",
   "execution_count": null,
   "metadata": {},
   "outputs": [],
   "source": [
    "with APP.app_context():\n",
    "    add_or_update_user('KenJennings')"
   ]
  },
  {
   "cell_type": "markdown",
   "metadata": {},
   "source": [
    "### We can add more fault-tolerance, with try / except / else blocks"
   ]
  },
  {
   "cell_type": "code",
   "execution_count": null,
   "metadata": {},
   "outputs": [],
   "source": [
    "def add_or_update_user(username):\n",
    "    \"\"\"Add or update a user and their Tweets, error if not a Twitter user.\"\"\"\n",
    "    try:\n",
    "        twitter_user = TWITTER.get_user(username)\n",
    "        db_user = (User.query.get(twitter_user.id) or\n",
    "                   User(id=twitter_user.id, name=username))\n",
    "        DB.session.add(db_user)\n",
    "        # We want as many recent non-retweet/reply statuses as we can get\n",
    "        # 200 is a Twitter API limit, we'll usually see less due to exclusions\n",
    "        tweets = twitter_user.timeline(\n",
    "            count=200, exclude_replies=True, include_rts=False,\n",
    "            tweet_mode='extended', since_id=db_user.newest_tweet_id)\n",
    "        if tweets:\n",
    "            db_user.newest_tweet_id = tweets[0].id         \n",
    "        # tqdm adds progress bar\n",
    "        for tweet in tqdm(tweets):\n",
    "            # Calculate embedding on the full tweet, but truncate for storing\n",
    "            embedding = BASILICA.embed_sentence(tweet.full_text,\n",
    "                                                model='twitter')\n",
    "            db_tweet = Tweet(id=tweet.id, text=tweet.full_text[:300],\n",
    "                             embedding=embedding)\n",
    "            db_user.tweets.append(db_tweet)\n",
    "            DB.session.add(db_tweet)\n",
    "    except Exception as e:\n",
    "        print('Error processing {}: {}'.format(username, e))\n",
    "        raise e\n",
    "    else:\n",
    "        DB.session.commit()"
   ]
  },
  {
   "cell_type": "markdown",
   "metadata": {},
   "source": [
    "# 2. Add multiple users"
   ]
  },
  {
   "cell_type": "code",
   "execution_count": null,
   "metadata": {},
   "outputs": [],
   "source": [
    "def add_users(users):\n",
    "    \"\"\"\n",
    "    Add/update a list of users (strings of user names).\n",
    "    May take awhile, so run \"offline\" (interactive shell).\n",
    "    \"\"\"\n",
    "    # tqdm adds progress bar\n",
    "    for user in tqdm(users):\n",
    "        add_or_update_user(user)"
   ]
  },
  {
   "cell_type": "code",
   "execution_count": null,
   "metadata": {},
   "outputs": [],
   "source": [
    "users = ['calebhicks', 'SteveMartinToGo', 'sadserver']\n",
    "\n",
    "with APP.app_context():\n",
    "    add_users(users)"
   ]
  },
  {
   "cell_type": "markdown",
   "metadata": {},
   "source": [
    "# 3. Update all users"
   ]
  },
  {
   "cell_type": "code",
   "execution_count": null,
   "metadata": {},
   "outputs": [],
   "source": [
    "def update_all_users():\n",
    "    \"\"\"Update all Tweets for all Users in the User table.\"\"\"\n",
    "    # tqdm adds progress bar\n",
    "    for user in tqdm(User.query.all()):\n",
    "        add_or_update_user(user.name)"
   ]
  },
  {
   "cell_type": "code",
   "execution_count": null,
   "metadata": {},
   "outputs": [],
   "source": [
    "with APP.app_context():\n",
    "    update_all_users()"
   ]
  },
  {
   "cell_type": "markdown",
   "metadata": {},
   "source": [
    "# ASSIGNMENT\n",
    "\n",
    "#### Add these functions to your Flask app\n",
    "- Put `add_or_update_user`, `add_users`, and `update_all_users` in `twitter.py`\n",
    "- Remove the `tqdm` progress bars from the for loops\n",
    "- Import the functions in `app.py`\n",
    "\n",
    "#### Replace your `/user/<name>` route with these routes\n",
    "\n",
    "```\n",
    "    @app.route('/user', methods=['POST'])\n",
    "    @app.route('/user/<name>', methods=['GET'])\n",
    "    def user(name=None, message=''):\n",
    "        name = name or request.values['user_name']\n",
    "        try:\n",
    "            if request.method == 'POST':\n",
    "                add_or_update_user(name)\n",
    "                message = \"User {} successfully added!\".format(name)\n",
    "            tweets = User.query.filter(User.name == name).one().tweets\n",
    "        except Exception as e:\n",
    "            message = \"Error adding {}: {}\".format(name, e)\n",
    "            tweets = []\n",
    "        return render_template('user.html', title=name, tweets=tweets,\n",
    "                               message=message)\n",
    "```\n",
    "\n",
    "***You will also need to add this import to the top of the file:*** `from flask import request`\n",
    "\n",
    "#### Add an `/update` route\n",
    "\n",
    "It should be like the Root route. But first, it should call your function to update all users. And it can display an appropriate title on the page, such as \"All tweets updated!\""
   ]
  },
  {
   "cell_type": "markdown",
   "metadata": {},
   "source": [
    "# 4. Predict!"
   ]
  },
  {
   "cell_type": "code",
   "execution_count": null,
   "metadata": {},
   "outputs": [],
   "source": [
    "import numpy as np\n",
    "from sklearn.linear_model import LogisticRegression"
   ]
  },
  {
   "cell_type": "code",
   "execution_count": null,
   "metadata": {},
   "outputs": [],
   "source": [
    "user1_name = 'Austen'\n",
    "user2_name = 'elonmusk'"
   ]
  },
  {
   "cell_type": "code",
   "execution_count": null,
   "metadata": {},
   "outputs": [],
   "source": [
    "with APP.app_context():\n",
    "    user1 = User.query.filter(User.name == user1_name).one()\n",
    "    user2 = User.query.filter(User.name == user2_name).one()\n",
    "    user1_embeddings = np.array([tweet.embedding for tweet in user1.tweets])\n",
    "    user2_embeddings = np.array([tweet.embedding for tweet in user2.tweets])\n",
    "    user1_labels = np.ones(len(user1.tweets))\n",
    "    user2_labels = np.zeros(len(user2.tweets))"
   ]
  },
  {
   "cell_type": "code",
   "execution_count": null,
   "metadata": {},
   "outputs": [],
   "source": [
    "user1_embeddings.shape, user2_embeddings.shape, user1_labels.shape, user2_labels.shape"
   ]
  },
  {
   "cell_type": "code",
   "execution_count": null,
   "metadata": {},
   "outputs": [],
   "source": [
    "user1_embeddings"
   ]
  },
  {
   "cell_type": "code",
   "execution_count": null,
   "metadata": {},
   "outputs": [],
   "source": [
    "user1_labels"
   ]
  },
  {
   "cell_type": "code",
   "execution_count": null,
   "metadata": {},
   "outputs": [],
   "source": [
    "user2_embeddings"
   ]
  },
  {
   "cell_type": "code",
   "execution_count": null,
   "metadata": {},
   "outputs": [],
   "source": [
    "user2_labels"
   ]
  },
  {
   "cell_type": "code",
   "execution_count": null,
   "metadata": {},
   "outputs": [],
   "source": [
    "embeddings = np.vstack([user1_embeddings, user2_embeddings])\n",
    "labels = np.concatenate([user1_labels, user2_labels])\n",
    "\n",
    "embeddings.shape, labels.shape"
   ]
  },
  {
   "cell_type": "code",
   "execution_count": null,
   "metadata": {},
   "outputs": [],
   "source": [
    "log_reg = LogisticRegression(solver='lbfgs', max_iter=1000)\n",
    "log_reg.fit(embeddings, labels)"
   ]
  },
  {
   "cell_type": "code",
   "execution_count": null,
   "metadata": {},
   "outputs": [],
   "source": [
    "log_reg.score(embeddings, labels)"
   ]
  },
  {
   "cell_type": "code",
   "execution_count": null,
   "metadata": {},
   "outputs": [],
   "source": [
    "from sklearn.model_selection import cross_val_score\n",
    "cross_val_score(log_reg, embeddings, labels, cv=3)"
   ]
  },
  {
   "cell_type": "code",
   "execution_count": null,
   "metadata": {},
   "outputs": [],
   "source": [
    "tweet_text = 'Income Share Agreements align incentives. Welcome to the future of education.'\n",
    "tweet_embedding = BASILICA.embed_sentence(tweet_text, model='twitter')\n",
    "log_reg.predict(np.array(tweet_embedding).reshape(1, -1))"
   ]
  },
  {
   "cell_type": "code",
   "execution_count": null,
   "metadata": {},
   "outputs": [],
   "source": [
    "log_reg.predict_proba(np.array(tweet_embedding).reshape(1, -1))"
   ]
  },
  {
   "cell_type": "code",
   "execution_count": null,
   "metadata": {},
   "outputs": [],
   "source": [
    "tweet_text = 'SpaceX will launch another Tesla into orbit'\n",
    "tweet_embedding = BASILICA.embed_sentence(tweet_text, model='twitter')\n",
    "log_reg.predict(np.array(tweet_embedding).reshape(1, -1))"
   ]
  },
  {
   "cell_type": "code",
   "execution_count": null,
   "metadata": {},
   "outputs": [],
   "source": [
    "log_reg.predict_proba(np.array(tweet_embedding).reshape(1, -1))"
   ]
  },
  {
   "cell_type": "code",
   "execution_count": null,
   "metadata": {},
   "outputs": [],
   "source": [
    "tweet_text = 'Today we launch a new initiative'\n",
    "tweet_embedding = BASILICA.embed_sentence(tweet_text, model='twitter')\n",
    "log_reg.predict_proba(np.array(tweet_embedding).reshape(1, -1))"
   ]
  },
  {
   "cell_type": "markdown",
   "metadata": {},
   "source": [
    "# ASSIGNMENT\n",
    "\n",
    "### Create `TwitOff/twitoff/predict.py`\n",
    "\n",
    "Refactor the notebook code into a function, named `predict_user`.\n",
    "\n",
    "The code you need is already here. You just need to put it in a function in a `.py` file.\n",
    "\n",
    "The function should take three strings as parameters:\n",
    "- User 1 name\n",
    "- User 2 name\n",
    "- Tweet text\n",
    "\n",
    "The function should determine and return which user is more likely to say a given tweet. (`return log_reg.predict(...)`)\n",
    "\n",
    "Import what you need from `numpy`, `sklearn`, and your `.models` and `.twitter` modules.\n",
    "\n",
    "### Add this `/compare` route\n",
    "\n",
    "```\n",
    "    @app.route('/compare', methods=['POST'])\n",
    "    def compare(message=''):\n",
    "        user1, user2 = sorted([request.values['user1'],\n",
    "                               request.values['user2']])\n",
    "        if user1 == user2:\n",
    "            message = 'Cannot compare a user to themselves!'\n",
    "        else:\n",
    "            prediction = predict_user(user1, user2, request.values['tweet_text'])\n",
    "            message = '\"{}\" is more likely to be said by {} than {}'.format(\n",
    "                request.values['tweet_text'], user1 if prediction else user2,\n",
    "                user2 if prediction else user1)\n",
    "        return render_template('prediction.html', title='Prediction', message=message)\n",
    "```\n",
    "\n",
    "***You will also need to add this import to the top of the file:*** `from .predict import predict_user`"
   ]
  }
 ],
 "metadata": {
  "kernelspec": {
   "display_name": "Python 3",
   "language": "python",
   "name": "python3"
  },
  "language_info": {
   "codemirror_mode": {
    "name": "ipython",
    "version": 3
   },
   "file_extension": ".py",
   "mimetype": "text/x-python",
   "name": "python",
   "nbconvert_exporter": "python",
   "pygments_lexer": "ipython3",
   "version": "3.7.1"
  }
 },
 "nbformat": 4,
 "nbformat_minor": 2
}
